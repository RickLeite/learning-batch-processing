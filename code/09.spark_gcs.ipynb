{
 "cells": [
  {
   "cell_type": "code",
   "execution_count": 1,
   "metadata": {},
   "outputs": [],
   "source": [
    "import pyspark\n",
    "from pyspark.sql import SparkSession\n",
    "from pyspark.conf import SparkConf\n",
    "from pyspark.context import SparkContext"
   ]
  },
  {
   "cell_type": "code",
   "execution_count": 2,
   "metadata": {},
   "outputs": [],
   "source": [
    "credentials_location = './google_credentials.json'\n",
    "\n",
    "conf = SparkConf() \\\n",
    "    .setMaster('local[*]') \\\n",
    "    .setAppName('test') \\\n",
    "    .set(\"spark.jars\", \"./lib/gcs-connector-hadoop3-2.2.11.jar\") \\\n",
    "    .set(\"spark.hadoop.google.cloud.auth.service.account.enable\", \"true\") \\\n",
    "    .set(\"spark.hadoop.google.cloud.auth.service.account.json.keyfile\", credentials_location)"
   ]
  },
  {
   "cell_type": "code",
   "execution_count": 3,
   "metadata": {},
   "outputs": [
    {
     "name": "stdout",
     "output_type": "stream",
     "text": [
      "23/03/06 21:40:36 WARN Utils: Your hostname, wedivv-H110M-S2V resolves to a loopback address: 127.0.1.1; using 192.168.1.44 instead (on interface wlp5s0)\n",
      "23/03/06 21:40:36 WARN Utils: Set SPARK_LOCAL_IP if you need to bind to another address\n",
      "23/03/06 21:40:36 WARN NativeCodeLoader: Unable to load native-hadoop library for your platform... using builtin-java classes where applicable\n"
     ]
    },
    {
     "name": "stderr",
     "output_type": "stream",
     "text": [
      "Setting default log level to \"WARN\".\n",
      "To adjust logging level use sc.setLogLevel(newLevel). For SparkR, use setLogLevel(newLevel).\n"
     ]
    }
   ],
   "source": [
    "sc = SparkContext(conf=conf)\n",
    "\n",
    "hadoop_conf = sc._jsc.hadoopConfiguration()\n",
    "\n",
    "hadoop_conf.set(\"fs.AbstractFileSystem.gs.impl\",  \"com.google.cloud.hadoop.fs.gcs.GoogleHadoopFS\")\n",
    "hadoop_conf.set(\"fs.gs.impl\", \"com.google.cloud.hadoop.fs.gcs.GoogleHadoopFileSystem\")\n",
    "hadoop_conf.set(\"fs.gs.auth.service.account.json.keyfile\", credentials_location)\n",
    "hadoop_conf.set(\"fs.gs.auth.service.account.enable\", \"true\")"
   ]
  },
  {
   "cell_type": "code",
   "execution_count": 5,
   "metadata": {},
   "outputs": [],
   "source": [
    "spark = SparkSession.builder \\\n",
    "    .config(conf=sc.getConf()) \\\n",
    "    .getOrCreate()"
   ]
  },
  {
   "cell_type": "code",
   "execution_count": 7,
   "metadata": {},
   "outputs": [],
   "source": [
    "df_green = spark.read.parquet('gs://dtc_data_lake_dtc-de-376416/pq/green/*/*')"
   ]
  },
  {
   "cell_type": "code",
   "execution_count": 8,
   "metadata": {},
   "outputs": [
    {
     "name": "stderr",
     "output_type": "stream",
     "text": [
      "[Stage 2:>                                                          (0 + 1) / 1]\r"
     ]
    },
    {
     "name": "stdout",
     "output_type": "stream",
     "text": [
      "+--------+--------------------+---------------------+------------------+----------+------------+------------+---------------+-------------+-----------+-----+-------+----------+------------+---------+---------------------+------------+------------+---------+--------------------+\n",
      "|VendorID|lpep_pickup_datetime|lpep_dropoff_datetime|store_and_fwd_flag|RatecodeID|PULocationID|DOLocationID|passenger_count|trip_distance|fare_amount|extra|mta_tax|tip_amount|tolls_amount|ehail_fee|improvement_surcharge|total_amount|payment_type|trip_type|congestion_surcharge|\n",
      "+--------+--------------------+---------------------+------------------+----------+------------+------------+---------------+-------------+-----------+-----+-------+----------+------------+---------+---------------------+------------+------------+---------+--------------------+\n",
      "|       2| 2020-01-04 20:44:24|  2020-01-04 20:47:19|                 N|         1|         223|         264|              1|          0.0|        2.5|  0.5|    0.5|       0.0|         0.0|     null|                  0.3|         3.8|           2|        1|                 0.0|\n",
      "|       2| 2020-01-20 15:33:12|  2020-01-20 15:37:15|                 N|         1|          42|          42|              1|          0.8|        5.0|  0.0|    0.5|       0.0|         0.0|     null|                  0.3|         5.8|           2|        1|                 0.0|\n",
      "|       2| 2020-01-07 20:29:32|  2020-01-07 20:39:34|                 N|         1|         244|          42|              1|         4.52|       14.0|  0.5|    0.5|      4.59|         0.0|     null|                  0.3|       19.89|           1|        1|                 0.0|\n",
      "|    null| 2020-01-09 10:25:00|  2020-01-09 10:40:00|              null|      null|         183|         168|           null|         8.54|      43.25| 2.75|    0.5|       0.0|         0.0|     null|                  0.0|        46.5|        null|     null|                null|\n",
      "|       2| 2020-01-09 17:06:26|  2020-01-09 17:09:45|                 N|         1|          75|          75|              1|         0.59|        4.5|  1.0|    0.5|       0.0|         0.0|     null|                  0.3|         6.3|           2|        1|                 0.0|\n",
      "|       2| 2020-01-09 13:13:42|  2020-01-09 13:20:44|                 N|         1|         196|          56|              1|         1.01|        6.5|  0.0|    0.5|       0.0|         0.0|     null|                  0.3|         7.3|           1|        1|                 0.0|\n",
      "|    null| 2020-01-30 17:54:00|  2020-01-30 18:41:00|              null|      null|          42|         234|           null|         7.64|      32.41| 2.75|    0.5|       0.0|         0.0|     null|                  0.3|       35.96|        null|     null|                null|\n",
      "|       2| 2020-01-23 15:02:49|  2020-01-23 16:17:33|                 N|         1|         130|          86|              1|        10.59|       51.0|  0.0|    0.5|       0.0|         0.0|     null|                  0.3|        51.8|           1|        1|                 0.0|\n",
      "|       2| 2020-01-06 19:44:45|  2020-01-06 19:48:21|                 N|         1|          42|          74|              1|         0.73|        4.5|  1.0|    0.5|      1.07|         0.0|     null|                  0.3|        7.37|           1|        1|                 0.0|\n",
      "|       1| 2020-01-29 17:07:13|  2020-01-29 17:31:06|                 N|         1|          56|           9|              1|          0.0|       20.2|  0.0|    0.5|       0.0|         0.0|     null|                  0.3|        21.0|           1|        1|                 0.0|\n",
      "|       2| 2020-01-06 07:36:01|  2020-01-06 07:43:40|                 N|         1|          74|          75|              1|         0.91|        6.5|  0.0|    0.5|      1.82|         0.0|     null|                  0.3|        9.12|           1|        1|                 0.0|\n",
      "|    null| 2020-01-07 16:57:00|  2020-01-07 17:10:00|              null|      null|          83|         226|           null|         1.53|        8.0|  0.0|    0.0|       0.0|         0.0|     null|                  0.3|         8.3|        null|     null|                null|\n",
      "|       2| 2020-01-05 14:42:59|  2020-01-05 15:01:14|                 N|         1|          65|         178|              2|         6.99|       22.5|  0.0|    0.5|      4.66|         0.0|     null|                  0.3|       27.96|           1|        1|                 0.0|\n",
      "|       2| 2020-01-26 15:37:49|  2020-01-26 16:22:27|                 N|         1|          33|         132|              1|        18.15|       51.5|  0.0|    0.5|       0.0|         0.0|     null|                  0.3|        52.3|           2|        1|                 0.0|\n",
      "|       1| 2020-01-14 13:15:34|  2020-01-14 13:18:43|                 N|         1|          74|          41|              1|          0.6|        4.5|  0.0|    0.5|       0.0|         0.0|     null|                  0.3|         5.3|           2|        1|                 0.0|\n",
      "|       2| 2020-01-13 20:19:21|  2020-01-13 20:39:36|                 N|         5|         195|          89|              1|         4.66|       20.0|  0.0|    0.0|       6.0|         0.0|     null|                  0.0|        26.0|           1|        2|                 0.0|\n",
      "|       2| 2020-01-11 09:51:07|  2020-01-11 09:53:46|                 N|         1|          43|         236|              2|         0.58|        4.0|  0.0|    0.5|       1.0|         0.0|     null|                  0.3|        8.55|           1|        1|                2.75|\n",
      "|       2| 2020-01-22 11:59:54|  2020-01-22 12:03:01|                 N|         1|          42|          42|              1|         0.68|        4.5|  0.0|    0.5|       0.0|         0.0|     null|                  0.3|         5.3|           2|        1|                 0.0|\n",
      "|    null| 2020-01-07 16:09:00|  2020-01-07 16:33:00|              null|      null|          33|         157|           null|         7.48|      30.55| 2.75|    0.5|       0.0|         0.0|     null|                  0.3|        34.1|        null|     null|                null|\n",
      "|    null| 2020-01-17 08:21:00|  2020-01-17 09:06:00|              null|      null|          76|          55|           null|        12.48|      45.99| 2.75|    0.0|       0.0|         0.0|     null|                  0.3|       49.04|        null|     null|                null|\n",
      "+--------+--------------------+---------------------+------------------+----------+------------+------------+---------------+-------------+-----------+-----+-------+----------+------------+---------+---------------------+------------+------------+---------+--------------------+\n",
      "only showing top 20 rows\n",
      "\n"
     ]
    },
    {
     "name": "stderr",
     "output_type": "stream",
     "text": [
      "                                                                                \r"
     ]
    }
   ],
   "source": [
    "df_green.show()"
   ]
  },
  {
   "cell_type": "code",
   "execution_count": 12,
   "metadata": {},
   "outputs": [
    {
     "name": "stderr",
     "output_type": "stream",
     "text": [
      "                                                                                \r"
     ]
    },
    {
     "data": {
      "text/plain": [
       "2304517"
      ]
     },
     "execution_count": 12,
     "metadata": {},
     "output_type": "execute_result"
    }
   ],
   "source": [
    "df_green.count()"
   ]
  },
  {
   "cell_type": "code",
   "execution_count": 10,
   "metadata": {},
   "outputs": [],
   "source": [
    "df_yellow = spark.read.parquet('data/pq/yellow/*/*')"
   ]
  },
  {
   "cell_type": "code",
   "execution_count": 11,
   "metadata": {},
   "outputs": [
    {
     "name": "stdout",
     "output_type": "stream",
     "text": [
      "+--------+--------------------+---------------------+---------------+-------------+----------+------------------+------------+------------+------------+-----------+-----+-------+----------+------------+---------------------+------------+--------------------+\n",
      "|VendorID|tpep_pickup_datetime|tpep_dropoff_datetime|passenger_count|trip_distance|RatecodeID|store_and_fwd_flag|PULocationID|DOLocationID|payment_type|fare_amount|extra|mta_tax|tip_amount|tolls_amount|improvement_surcharge|total_amount|congestion_surcharge|\n",
      "+--------+--------------------+---------------------+---------------+-------------+----------+------------------+------------+------------+------------+-----------+-----+-------+----------+------------+---------------------+------------+--------------------+\n",
      "|       2| 2020-01-29 23:58:04|  2020-01-30 00:07:08|              5|         2.37|         1|                 N|          48|         237|           1|        9.5|  0.5|    0.5|      3.32|         0.0|                  0.3|       16.62|                 2.5|\n",
      "|       2| 2020-01-17 09:29:30|  2020-01-17 09:38:12|              1|         0.76|         1|                 N|         186|         230|           2|        7.0|  0.0|    0.5|       0.0|         0.0|                  0.3|        10.3|                 2.5|\n",
      "|       2| 2020-01-11 20:01:36|  2020-01-11 20:07:58|              1|         0.94|         1|                 N|         237|         140|           1|        6.0|  0.5|    0.5|      1.96|         0.0|                  0.3|       11.76|                 2.5|\n",
      "|       2| 2020-01-15 08:52:55|  2020-01-15 09:13:17|              1|         3.14|         1|                 N|         238|         100|           1|       15.5|  0.0|    0.5|       2.0|         0.0|                  0.3|        20.8|                 2.5|\n",
      "|       1| 2020-01-14 14:39:22|  2020-01-14 14:46:39|              1|          0.9|         1|                 N|         140|         237|           1|        6.5|  2.5|    0.5|      1.96|         0.0|                  0.3|       11.76|                 2.5|\n",
      "|       2| 2020-01-26 17:51:29|  2020-01-26 18:05:09|              6|         1.62|         1|                 N|         249|         211|           1|       10.0|  0.0|    0.5|      2.66|         0.0|                  0.3|       15.96|                 2.5|\n",
      "|       1| 2020-01-08 12:18:41|  2020-01-08 12:36:24|              3|          2.2|         1|                 N|         164|         125|           1|       12.5|  2.5|    0.5|      3.15|         0.0|                  0.3|       18.95|                 2.5|\n",
      "|       2| 2020-01-21 07:28:31|  2020-01-21 07:31:49|              6|          1.0|         1|                 N|         239|         143|           2|        5.0|  0.0|    0.5|       0.0|         0.0|                  0.3|         8.3|                 2.5|\n",
      "|       1| 2020-01-31 17:56:12|  2020-01-31 18:16:33|              1|          4.7|         1|                 N|          13|         143|           1|       17.5|  3.5|    0.5|      2.18|         0.0|                  0.3|       23.98|                 2.5|\n",
      "|       2| 2020-01-12 19:16:43|  2020-01-12 19:22:32|              1|         1.73|         1|                 N|         229|         262|           2|        7.0|  0.0|    0.5|       0.0|         0.0|                  0.3|        10.3|                 2.5|\n",
      "|       1| 2020-01-08 15:16:03|  2020-01-08 15:29:46|              1|          1.7|         1|                 N|         186|         113|           1|       10.0|  2.5|    0.5|      2.65|         0.0|                  0.3|       15.95|                 2.5|\n",
      "|       2| 2020-01-05 13:19:11|  2020-01-05 13:47:35|              2|        19.45|         2|                 N|         264|         264|           1|       52.0|  0.0|    0.5|      10.0|        6.12|                  0.3|       71.42|                 2.5|\n",
      "|       2| 2020-01-07 18:41:28|  2020-01-07 18:47:23|              2|         0.85|         1|                 N|         237|         140|           1|        5.5|  1.0|    0.5|      1.47|         0.0|                  0.3|       11.27|                 2.5|\n",
      "|       1| 2020-01-03 13:01:47|  2020-01-03 13:03:57|              1|          0.3|         1|                 N|         170|         161|           1|        3.5|  2.5|    0.5|       1.7|         0.0|                  0.3|         8.5|                 2.5|\n",
      "|       2| 2020-01-18 16:39:11|  2020-01-18 16:44:42|              1|         0.89|         1|                 N|         164|         161|           1|        5.5|  0.0|    0.5|      1.76|         0.0|                  0.3|       10.56|                 2.5|\n",
      "|       1| 2020-01-12 19:00:07|  2020-01-12 19:13:42|              2|          4.4|         1|                 N|         232|         162|           1|       15.0|  2.5|    0.5|       3.0|         0.0|                  0.3|        21.3|                 2.5|\n",
      "|       1| 2020-01-11 11:49:54|  2020-01-11 12:13:11|              1|          3.7|         1|                 N|         186|         262|           1|       17.0|  2.5|    0.5|       2.0|         0.0|                  0.3|        22.3|                 2.5|\n",
      "|       1| 2020-01-28 22:26:59|  2020-01-28 22:46:56|              1|          6.0|         1|                 N|         170|          13|           1|       21.0|  3.0|    0.5|      4.95|         0.0|                  0.3|       29.75|                 2.5|\n",
      "|       2| 2020-01-05 02:00:30|  2020-01-05 02:06:08|              1|          1.0|         1|                 N|         161|         163|           2|        6.0|  0.5|    0.5|       0.0|         0.0|                  0.3|         9.8|                 2.5|\n",
      "|       2| 2020-01-18 18:03:38|  2020-01-18 18:09:14|              1|         0.71|         1|                 N|          48|         230|           2|        5.5|  0.0|    0.5|       0.0|         0.0|                  0.3|         8.8|                 2.5|\n",
      "+--------+--------------------+---------------------+---------------+-------------+----------+------------------+------------+------------+------------+-----------+-----+-------+----------+------------+---------------------+------------+--------------------+\n",
      "only showing top 20 rows\n",
      "\n"
     ]
    }
   ],
   "source": [
    "df_yellow.show()"
   ]
  },
  {
   "cell_type": "code",
   "execution_count": 13,
   "metadata": {},
   "outputs": [
    {
     "data": {
      "text/plain": [
       "39649199"
      ]
     },
     "execution_count": 13,
     "metadata": {},
     "output_type": "execute_result"
    }
   ],
   "source": [
    "df_yellow.count()"
   ]
  }
 ],
 "metadata": {
  "kernelspec": {
   "display_name": "Python 3 (ipykernel)",
   "language": "python",
   "name": "python3"
  },
  "language_info": {
   "codemirror_mode": {
    "name": "ipython",
    "version": 3
   },
   "file_extension": ".py",
   "mimetype": "text/x-python",
   "name": "python",
   "nbconvert_exporter": "python",
   "pygments_lexer": "ipython3",
   "version": "3.10.6"
  }
 },
 "nbformat": 4,
 "nbformat_minor": 2
}

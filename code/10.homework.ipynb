{
 "cells": [
  {
   "cell_type": "code",
   "execution_count": 1,
   "metadata": {},
   "outputs": [],
   "source": [
    "from pyspark.sql import SparkSession\n",
    "import pandas as pd"
   ]
  },
  {
   "cell_type": "code",
   "execution_count": 2,
   "metadata": {},
   "outputs": [
    {
     "name": "stdout",
     "output_type": "stream",
     "text": [
      "23/03/08 11:21:24 WARN Utils: Your hostname, wedivv-H110M-S2V resolves to a loopback address: 127.0.1.1; using 192.168.1.44 instead (on interface wlp5s0)\n",
      "23/03/08 11:21:24 WARN Utils: Set SPARK_LOCAL_IP if you need to bind to another address\n"
     ]
    },
    {
     "name": "stderr",
     "output_type": "stream",
     "text": [
      "Setting default log level to \"WARN\".\n",
      "To adjust logging level use sc.setLogLevel(newLevel). For SparkR, use setLogLevel(newLevel).\n"
     ]
    },
    {
     "name": "stdout",
     "output_type": "stream",
     "text": [
      "23/03/08 11:21:25 WARN NativeCodeLoader: Unable to load native-hadoop library for your platform... using builtin-java classes where applicable\n"
     ]
    }
   ],
   "source": [
    "spark = SparkSession.builder \\\n",
    "    .master(\"local[*]\") \\\n",
    "    .appName('homework') \\\n",
    "    .getOrCreate()"
   ]
  },
  {
   "cell_type": "code",
   "execution_count": 3,
   "metadata": {},
   "outputs": [
    {
     "data": {
      "text/plain": [
       "'3.3.2'"
      ]
     },
     "execution_count": 3,
     "metadata": {},
     "output_type": "execute_result"
    }
   ],
   "source": [
    "spark.version \n",
    "# Question 1 - version"
   ]
  },
  {
   "cell_type": "code",
   "execution_count": 5,
   "metadata": {},
   "outputs": [
    {
     "name": "stderr",
     "output_type": "stream",
     "text": [
      "                                                                                \r"
     ]
    }
   ],
   "source": [
    "df_hvfhw = spark.read.csv('./data/fhvhv_tripdata_2021-06.csv.gz', header=True, inferSchema=True)"
   ]
  },
  {
   "cell_type": "code",
   "execution_count": 6,
   "metadata": {},
   "outputs": [
    {
     "name": "stdout",
     "output_type": "stream",
     "text": [
      "+--------------------+-------------------+-------------------+------------+------------+-------+----------------------+\n",
      "|dispatching_base_num|    pickup_datetime|   dropoff_datetime|PULocationID|DOLocationID|SR_Flag|Affiliated_base_number|\n",
      "+--------------------+-------------------+-------------------+------------+------------+-------+----------------------+\n",
      "|              B02764|2021-06-01 00:02:41|2021-06-01 00:07:46|         174|          18|      N|                B02764|\n",
      "|              B02764|2021-06-01 00:16:16|2021-06-01 00:21:14|          32|         254|      N|                B02764|\n",
      "|              B02764|2021-06-01 00:27:01|2021-06-01 00:42:11|         240|         127|      N|                B02764|\n",
      "|              B02764|2021-06-01 00:46:08|2021-06-01 00:53:45|         127|         235|      N|                B02764|\n",
      "|              B02510|2021-06-01 00:45:42|2021-06-01 01:03:33|         144|         146|      N|                  null|\n",
      "|              B02510|2021-06-01 00:18:15|2021-06-01 00:25:47|          49|          17|      N|                  null|\n",
      "|              B02510|2021-06-01 00:33:06|2021-06-01 00:42:46|          49|         225|      N|                  null|\n",
      "|              B02510|2021-06-01 00:46:27|2021-06-01 00:56:50|         225|         177|      N|                  null|\n",
      "|              B02764|2021-06-01 00:48:06|2021-06-01 01:04:10|         209|          45|      N|                B02764|\n",
      "|              B02875|2021-06-01 00:18:54|2021-06-01 00:26:14|          80|         256|      N|                B02875|\n",
      "|              B02875|2021-06-01 00:31:02|2021-06-01 00:36:39|         217|          17|      N|                B02875|\n",
      "|              B02875|2021-06-01 00:41:53|2021-06-01 01:07:32|          17|         265|      N|                B02875|\n",
      "|              B02875|2021-06-01 00:29:52|2021-06-01 00:54:41|         210|          76|      N|                B02875|\n",
      "|              B02510|2021-06-01 00:15:57|2021-06-01 00:39:36|         226|         213|      N|                  null|\n",
      "|              B02510|2021-06-01 00:11:59|2021-06-01 00:23:32|         191|           9|      N|                  null|\n",
      "|              B02510|2021-06-01 00:30:35|2021-06-01 00:45:35|          16|         250|      N|                  null|\n",
      "|              B02510|2021-06-01 00:49:01|2021-06-01 01:03:50|         182|         259|      N|                  null|\n",
      "|              B02510|2021-06-01 00:07:36|2021-06-01 00:21:13|         188|          72|      N|                  null|\n",
      "|              B02510|2021-06-01 00:25:48|2021-06-01 00:40:43|          39|          72|      N|                  null|\n",
      "|              B02510|2021-06-01 00:46:11|2021-06-01 00:53:39|          72|          35|      N|                  null|\n",
      "+--------------------+-------------------+-------------------+------------+------------+-------+----------------------+\n",
      "only showing top 20 rows\n",
      "\n"
     ]
    }
   ],
   "source": [
    "df_hvfhw.show()"
   ]
  },
  {
   "cell_type": "code",
   "execution_count": 7,
   "metadata": {},
   "outputs": [
    {
     "name": "stdout",
     "output_type": "stream",
     "text": [
      "root\n",
      " |-- dispatching_base_num: string (nullable = true)\n",
      " |-- pickup_datetime: timestamp (nullable = true)\n",
      " |-- dropoff_datetime: timestamp (nullable = true)\n",
      " |-- PULocationID: integer (nullable = true)\n",
      " |-- DOLocationID: integer (nullable = true)\n",
      " |-- SR_Flag: string (nullable = true)\n",
      " |-- Affiliated_base_number: string (nullable = true)\n",
      "\n"
     ]
    }
   ],
   "source": [
    "df_hvfhw.printSchema()"
   ]
  },
  {
   "cell_type": "code",
   "execution_count": 8,
   "metadata": {},
   "outputs": [],
   "source": [
    "df_hvfhw = df_hvfhw.repartition(12)"
   ]
  },
  {
   "cell_type": "code",
   "execution_count": null,
   "metadata": {},
   "outputs": [],
   "source": [
    "df_hvfhw.write.parquet('data/hvfhw/')\n",
    "# Question 2: avg size of .parquet = 24MB"
   ]
  },
  {
   "cell_type": "code",
   "execution_count": 10,
   "metadata": {},
   "outputs": [],
   "source": [
    "df_pqhvfhw = spark.read.parquet('data/hvfhw/')"
   ]
  },
  {
   "cell_type": "code",
   "execution_count": 11,
   "metadata": {},
   "outputs": [
    {
     "data": {
      "text/plain": [
       "14961892"
      ]
     },
     "execution_count": 11,
     "metadata": {},
     "output_type": "execute_result"
    }
   ],
   "source": [
    "df_pqhvfhw.count()"
   ]
  },
  {
   "cell_type": "code",
   "execution_count": 12,
   "metadata": {},
   "outputs": [],
   "source": [
    "df_pqhvfhw.createOrReplaceTempView('hvfhw_data')"
   ]
  },
  {
   "cell_type": "code",
   "execution_count": 13,
   "metadata": {},
   "outputs": [
    {
     "name": "stderr",
     "output_type": "stream",
     "text": [
      "[Stage 9:>                                                          (0 + 4) / 4]\r"
     ]
    },
    {
     "name": "stdout",
     "output_type": "stream",
     "text": [
      "+--------+\n",
      "|count(1)|\n",
      "+--------+\n",
      "|  452470|\n",
      "+--------+\n",
      "\n"
     ]
    },
    {
     "name": "stderr",
     "output_type": "stream",
     "text": [
      "                                                                                \r"
     ]
    }
   ],
   "source": [
    "# Question 3: taxi trips on June 15 = 452.470\n",
    "\n",
    "spark.sql(\"\"\"\n",
    "SELECT\n",
    "    count(*)\n",
    "FROM\n",
    "    hvfhw_data\n",
    "WHERE\n",
    "    pickup_datetime LIKE '2021-06-15%'\n",
    "    \n",
    "\"\"\").show()\n"
   ]
  },
  {
   "cell_type": "code",
   "execution_count": 14,
   "metadata": {},
   "outputs": [
    {
     "name": "stderr",
     "output_type": "stream",
     "text": [
      "                                                                                \r"
     ]
    },
    {
     "name": "stdout",
     "output_type": "stream",
     "text": [
      "+--------------------+-------------------+\n",
      "|dispatching_base_num|trip_duration_hours|\n",
      "+--------------------+-------------------+\n",
      "|              B02872|              66.88|\n",
      "|              B02765|              25.55|\n",
      "|              B02879|              19.98|\n",
      "|              B02800|              18.20|\n",
      "|              B02682|              16.47|\n",
      "|              B02869|              14.27|\n",
      "|              B02877|              13.91|\n",
      "|              B02765|              11.67|\n",
      "|              B02617|              11.37|\n",
      "|              B02880|              10.98|\n",
      "|              B02866|              10.27|\n",
      "|              B02882|               9.97|\n",
      "|              B02510|               9.97|\n",
      "|              B02510|               9.64|\n",
      "|              B02510|               9.62|\n",
      "|              B02510|               9.48|\n",
      "|              B02800|               9.47|\n",
      "|              B02510|               9.40|\n",
      "|              B02510|               9.39|\n",
      "|              B02764|               9.38|\n",
      "+--------------------+-------------------+\n",
      "only showing top 20 rows\n",
      "\n"
     ]
    }
   ],
   "source": [
    "# Question 4: Longest trip for each day = 66.88 Hours\n",
    "\n",
    "spark.sql(\"\"\"\n",
    "SELECT\n",
    "    dispatching_base_num,\n",
    "    ROUND((UNIX_TIMESTAMP(dropoff_datetime) - UNIX_TIMESTAMP(pickup_datetime)) / 3600.0, 2) AS trip_duration_hours\n",
    "FROM\n",
    "    hvfhw_data\n",
    "ORDER BY trip_duration_hours DESC\n",
    "\"\"\").show()"
   ]
  },
  {
   "cell_type": "code",
   "execution_count": 15,
   "metadata": {},
   "outputs": [
    {
     "name": "stdout",
     "output_type": "stream",
     "text": [
      "root\n",
      " |-- dispatching_base_num: string (nullable = true)\n",
      " |-- pickup_datetime: timestamp (nullable = true)\n",
      " |-- dropoff_datetime: timestamp (nullable = true)\n",
      " |-- PULocationID: integer (nullable = true)\n",
      " |-- DOLocationID: integer (nullable = true)\n",
      " |-- SR_Flag: string (nullable = true)\n",
      " |-- Affiliated_base_number: string (nullable = true)\n",
      "\n"
     ]
    }
   ],
   "source": [
    "df_pqhvfhw.printSchema()"
   ]
  },
  {
   "cell_type": "code",
   "execution_count": 16,
   "metadata": {},
   "outputs": [],
   "source": [
    "df_pqhvfhw = df_pqhvfhw.select(\"dispatching_base_num\", \"pickup_datetime\", \"PULocationID\")\n"
   ]
  },
  {
   "cell_type": "code",
   "execution_count": 17,
   "metadata": {},
   "outputs": [],
   "source": [
    "df_pqhvfhw = df_pqhvfhw.withColumnRenamed(\"pickup_datetime\", \"hour\")\n"
   ]
  },
  {
   "cell_type": "code",
   "execution_count": 18,
   "metadata": {},
   "outputs": [
    {
     "name": "stdout",
     "output_type": "stream",
     "text": [
      "+--------------------+-------------------+------------+\n",
      "|dispatching_base_num|               hour|PULocationID|\n",
      "+--------------------+-------------------+------------+\n",
      "|              B02510|2021-06-04 08:13:36|          91|\n",
      "|              B02875|2021-06-25 01:52:01|         132|\n",
      "|              B02875|2021-06-25 03:34:13|          75|\n",
      "|              B02866|2021-06-05 09:21:57|         233|\n",
      "|              B02876|2021-06-01 01:26:49|         182|\n",
      "|              B02883|2021-06-10 19:26:57|         140|\n",
      "|              B02510|2021-06-10 09:28:54|         255|\n",
      "|              B02510|2021-06-27 22:56:10|         198|\n",
      "|              B02883|2021-06-17 09:09:16|          72|\n",
      "|              B02510|2021-06-24 23:36:11|          79|\n",
      "|              B02800|2021-06-03 02:26:01|         188|\n",
      "|              B02876|2021-06-14 14:35:51|          45|\n",
      "|              B02876|2021-06-12 17:04:35|          50|\n",
      "|              B02882|2021-06-27 05:25:16|         198|\n",
      "|              B02871|2021-06-27 13:50:47|          65|\n",
      "|              B02764|2021-06-03 14:29:08|         217|\n",
      "|              B02510|2021-06-05 01:13:57|         137|\n",
      "|              B02882|2021-06-25 00:44:11|         249|\n",
      "|              B02872|2021-06-18 20:58:54|          62|\n",
      "|              B02887|2021-06-04 15:54:05|         220|\n",
      "+--------------------+-------------------+------------+\n",
      "only showing top 20 rows\n",
      "\n"
     ]
    }
   ],
   "source": [
    "df_pqhvfhw.show()"
   ]
  },
  {
   "cell_type": "code",
   "execution_count": 19,
   "metadata": {},
   "outputs": [],
   "source": [
    "zone = spark.read.csv('./data/taxi_zone_lookup.csv', header=True, inferSchema=True)"
   ]
  },
  {
   "cell_type": "code",
   "execution_count": 20,
   "metadata": {},
   "outputs": [
    {
     "name": "stdout",
     "output_type": "stream",
     "text": [
      "root\n",
      " |-- LocationID: integer (nullable = true)\n",
      " |-- Borough: string (nullable = true)\n",
      " |-- Zone: string (nullable = true)\n",
      " |-- service_zone: string (nullable = true)\n",
      "\n"
     ]
    }
   ],
   "source": [
    "zone.printSchema()"
   ]
  },
  {
   "cell_type": "code",
   "execution_count": null,
   "metadata": {},
   "outputs": [],
   "source": [
    "joined_df_pyspark = df_pqhvfhw.join(zone, df_pqhvfhw.PULocationID == zone.LocationID, \"left_outer\")\n"
   ]
  },
  {
   "cell_type": "code",
   "execution_count": null,
   "metadata": {},
   "outputs": [
    {
     "name": "stdout",
     "output_type": "stream",
     "text": [
      "+--------------------+-------------------+------------+----------+---------+--------------------+------------+\n",
      "|dispatching_base_num|               hour|PULocationID|LocationID|  Borough|                Zone|service_zone|\n",
      "+--------------------+-------------------+------------+----------+---------+--------------------+------------+\n",
      "|              B02510|2021-06-04 08:13:36|          91|        91| Brooklyn|           Flatlands|   Boro Zone|\n",
      "|              B02875|2021-06-25 01:52:01|         132|       132|   Queens|         JFK Airport|    Airports|\n",
      "|              B02875|2021-06-25 03:34:13|          75|        75|Manhattan|   East Harlem South|   Boro Zone|\n",
      "|              B02866|2021-06-05 09:21:57|         233|       233|Manhattan| UN/Turtle Bay South| Yellow Zone|\n",
      "|              B02876|2021-06-01 01:26:49|         182|       182|    Bronx|         Parkchester|   Boro Zone|\n",
      "|              B02883|2021-06-10 19:26:57|         140|       140|Manhattan|     Lenox Hill East| Yellow Zone|\n",
      "|              B02510|2021-06-10 09:28:54|         255|       255| Brooklyn|Williamsburg (Nor...|   Boro Zone|\n",
      "|              B02510|2021-06-27 22:56:10|         198|       198|   Queens|           Ridgewood|   Boro Zone|\n",
      "|              B02883|2021-06-17 09:09:16|          72|        72| Brooklyn|East Flatbush/Rem...|   Boro Zone|\n",
      "|              B02510|2021-06-24 23:36:11|          79|        79|Manhattan|        East Village| Yellow Zone|\n",
      "|              B02800|2021-06-03 02:26:01|         188|       188| Brooklyn|Prospect-Lefferts...|   Boro Zone|\n",
      "|              B02876|2021-06-14 14:35:51|          45|        45|Manhattan|           Chinatown| Yellow Zone|\n",
      "|              B02876|2021-06-12 17:04:35|          50|        50|Manhattan|        Clinton West| Yellow Zone|\n",
      "|              B02882|2021-06-27 05:25:16|         198|       198|   Queens|           Ridgewood|   Boro Zone|\n",
      "|              B02871|2021-06-27 13:50:47|          65|        65| Brooklyn|Downtown Brooklyn...|   Boro Zone|\n",
      "|              B02764|2021-06-03 14:29:08|         217|       217| Brooklyn|  South Williamsburg|   Boro Zone|\n",
      "|              B02510|2021-06-05 01:13:57|         137|       137|Manhattan|            Kips Bay| Yellow Zone|\n",
      "|              B02882|2021-06-25 00:44:11|         249|       249|Manhattan|        West Village| Yellow Zone|\n",
      "|              B02872|2021-06-18 20:58:54|          62|        62| Brooklyn| Crown Heights South|   Boro Zone|\n",
      "|              B02887|2021-06-04 15:54:05|         220|       220|    Bronx|Spuyten Duyvil/Ki...|   Boro Zone|\n",
      "+--------------------+-------------------+------------+----------+---------+--------------------+------------+\n",
      "only showing top 20 rows\n",
      "\n"
     ]
    }
   ],
   "source": [
    "joined_df_pyspark.show()"
   ]
  },
  {
   "cell_type": "code",
   "execution_count": null,
   "metadata": {},
   "outputs": [],
   "source": [
    "joined_df_pyspark.createOrReplaceTempView('joined_data')"
   ]
  },
  {
   "cell_type": "code",
   "execution_count": null,
   "metadata": {},
   "outputs": [
    {
     "name": "stderr",
     "output_type": "stream",
     "text": [
      "[Stage 37:===========================================>              (3 + 1) / 4]\r"
     ]
    },
    {
     "name": "stdout",
     "output_type": "stream",
     "text": [
      "+-------+--------------------+\n",
      "|pickups|                Zone|\n",
      "+-------+--------------------+\n",
      "| 231279| Crown Heights North|\n",
      "| 221244|        East Village|\n",
      "| 188867|         JFK Airport|\n",
      "| 187929|      Bushwick South|\n",
      "| 186780|       East New York|\n",
      "| 164344|TriBeCa/Civic Center|\n",
      "| 161596|   LaGuardia Airport|\n",
      "| 158937|            Union Sq|\n",
      "| 154698|        West Village|\n",
      "| 152493|             Astoria|\n",
      "| 151020|     Lower East Side|\n",
      "| 147673|        East Chelsea|\n",
      "| 146402|Central Harlem North|\n",
      "| 143683|Williamsburg (Nor...|\n",
      "| 143594|          Park Slope|\n",
      "| 141427|  Stuyvesant Heights|\n",
      "| 139611|        Clinton East|\n",
      "| 139431|West Chelsea/Huds...|\n",
      "| 138428|             Bedford|\n",
      "| 137879|         Murray Hill|\n",
      "+-------+--------------------+\n",
      "only showing top 20 rows\n",
      "\n"
     ]
    },
    {
     "name": "stderr",
     "output_type": "stream",
     "text": [
      "                                                                                \r"
     ]
    }
   ],
   "source": [
    "# Question 6: Most frequent pickup location zone = 231279 pickups on Crown Heights North|\n",
    "\n",
    "spark.sql(\"\"\"\n",
    "SELECT\n",
    "    COUNT(dispatching_base_num) as pickups,\n",
    "    Zone\n",
    "FROM\n",
    "    joined_data\n",
    "GROUP BY\n",
    "    Zone\n",
    "ORDER BY\n",
    "    pickups DESC\n",
    "\"\"\").show()"
   ]
  },
  {
   "cell_type": "code",
   "execution_count": 21,
   "metadata": {},
   "outputs": [],
   "source": [
    "zone.createOrReplaceTempView('zone_data')"
   ]
  },
  {
   "cell_type": "code",
   "execution_count": 34,
   "metadata": {},
   "outputs": [
    {
     "name": "stdout",
     "output_type": "stream",
     "text": [
      "+--------------------+-------------------+-------------------+------------+------------+-------+----------------------+\n",
      "|dispatching_base_num|    pickup_datetime|   dropoff_datetime|PULocationID|DOLocationID|SR_Flag|Affiliated_base_number|\n",
      "+--------------------+-------------------+-------------------+------------+------------+-------+----------------------+\n",
      "|              B02510|2021-06-04 08:13:36|2021-06-04 08:47:58|          91|          65|      N|                  null|\n",
      "|              B02875|2021-06-25 01:52:01|2021-06-25 02:14:51|         132|         255|      N|                B02875|\n",
      "|              B02875|2021-06-25 03:34:13|2021-06-25 03:42:22|          75|         263|      N|                B02875|\n",
      "|              B02866|2021-06-05 09:21:57|2021-06-05 09:35:38|         233|         186|      N|                B02866|\n",
      "|              B02876|2021-06-01 01:26:49|2021-06-01 01:33:02|         182|         212|      N|                B02876|\n",
      "|              B02883|2021-06-10 19:26:57|2021-06-10 19:45:37|         140|         107|      N|                B02883|\n",
      "|              B02510|2021-06-10 09:28:54|2021-06-10 09:59:53|         255|         228|      N|                  null|\n",
      "|              B02510|2021-06-27 22:56:10|2021-06-27 23:11:06|         198|         225|      N|                  null|\n",
      "|              B02883|2021-06-17 09:09:16|2021-06-17 09:17:03|          72|          39|      N|                B02883|\n",
      "|              B02510|2021-06-24 23:36:11|2021-06-24 23:57:41|          79|          42|      N|                  null|\n",
      "|              B02800|2021-06-03 02:26:01|2021-06-03 02:35:43|         188|          71|      N|                  null|\n",
      "|              B02876|2021-06-14 14:35:51|2021-06-14 14:59:41|          45|         161|      N|                B02876|\n",
      "|              B02876|2021-06-12 17:04:35|2021-06-12 17:20:13|          50|          90|      N|                B02876|\n",
      "|              B02882|2021-06-27 05:25:16|2021-06-27 05:29:16|         198|          36|      N|                B02882|\n",
      "|              B02871|2021-06-27 13:50:47|2021-06-27 13:58:18|          65|          97|      N|                B02871|\n",
      "|              B02764|2021-06-03 14:29:08|2021-06-03 14:36:49|         217|         217|      N|                B02764|\n",
      "|              B02510|2021-06-05 01:13:57|2021-06-05 01:21:46|         137|          68|      N|                  null|\n",
      "|              B02882|2021-06-25 00:44:11|2021-06-25 01:17:25|         249|         265|      N|                B02882|\n",
      "|              B02872|2021-06-18 20:58:54|2021-06-18 21:16:50|          62|         256|      N|                B02872|\n",
      "|              B02887|2021-06-04 15:54:05|2021-06-04 16:12:23|         220|         265|      N|                B02887|\n",
      "+--------------------+-------------------+-------------------+------------+------------+-------+----------------------+\n",
      "only showing top 20 rows\n",
      "\n"
     ]
    }
   ],
   "source": [
    "spark.sql(\"\"\"\n",
    "SELECT *\n",
    "FROM hvfhw_data\n",
    "\"\"\").show()"
   ]
  },
  {
   "cell_type": "code",
   "execution_count": 36,
   "metadata": {},
   "outputs": [
    {
     "name": "stdout",
     "output_type": "stream",
     "text": [
      "+----------+-------------+--------------------+------------+\n",
      "|LocationID|      Borough|                Zone|service_zone|\n",
      "+----------+-------------+--------------------+------------+\n",
      "|         1|          EWR|      Newark Airport|         EWR|\n",
      "|         2|       Queens|         Jamaica Bay|   Boro Zone|\n",
      "|         3|        Bronx|Allerton/Pelham G...|   Boro Zone|\n",
      "|         4|    Manhattan|       Alphabet City| Yellow Zone|\n",
      "|         5|Staten Island|       Arden Heights|   Boro Zone|\n",
      "|         6|Staten Island|Arrochar/Fort Wad...|   Boro Zone|\n",
      "|         7|       Queens|             Astoria|   Boro Zone|\n",
      "|         8|       Queens|        Astoria Park|   Boro Zone|\n",
      "|         9|       Queens|          Auburndale|   Boro Zone|\n",
      "|        10|       Queens|        Baisley Park|   Boro Zone|\n",
      "|        11|     Brooklyn|          Bath Beach|   Boro Zone|\n",
      "|        12|    Manhattan|        Battery Park| Yellow Zone|\n",
      "|        13|    Manhattan|   Battery Park City| Yellow Zone|\n",
      "|        14|     Brooklyn|           Bay Ridge|   Boro Zone|\n",
      "|        15|       Queens|Bay Terrace/Fort ...|   Boro Zone|\n",
      "|        16|       Queens|             Bayside|   Boro Zone|\n",
      "|        17|     Brooklyn|             Bedford|   Boro Zone|\n",
      "|        18|        Bronx|        Bedford Park|   Boro Zone|\n",
      "|        19|       Queens|           Bellerose|   Boro Zone|\n",
      "|        20|        Bronx|             Belmont|   Boro Zone|\n",
      "+----------+-------------+--------------------+------------+\n",
      "only showing top 20 rows\n",
      "\n"
     ]
    }
   ],
   "source": [
    "spark.sql(\"\"\"\n",
    "SELECT *\n",
    "FROM zone_data\n",
    "\"\"\").show()"
   ]
  },
  {
   "cell_type": "code",
   "execution_count": 77,
   "metadata": {},
   "outputs": [
    {
     "name": "stdout",
     "output_type": "stream",
     "text": [
      "+-------------------+-----------+\n",
      "|               Zone|num_pickups|\n",
      "+-------------------+-----------+\n",
      "|Crown Heights North|     231279|\n",
      "+-------------------+-----------+\n",
      "\n"
     ]
    },
    {
     "name": "stderr",
     "output_type": "stream",
     "text": [
      "                                                                                \r"
     ]
    }
   ],
   "source": [
    "spark.sql(\"\"\"\n",
    "\n",
    "SELECT\n",
    "    z.Zone,\n",
    "    COUNT(*) AS num_pickups\n",
    "FROM\n",
    "    hvfhw_data h\n",
    "    LEFT JOIN zone_data z ON h.PULocationID = z.LocationID\n",
    "GROUP BY\n",
    "    z.Zone\n",
    "ORDER BY\n",
    "    num_pickups DESC\n",
    "LIMIT 1\n",
    "\n",
    "\"\"\").show()"
   ]
  },
  {
   "cell_type": "code",
   "execution_count": null,
   "metadata": {},
   "outputs": [],
   "source": []
  }
 ],
 "metadata": {
  "kernelspec": {
   "display_name": "Python 3",
   "language": "python",
   "name": "python3"
  },
  "language_info": {
   "codemirror_mode": {
    "name": "ipython",
    "version": 3
   },
   "file_extension": ".py",
   "mimetype": "text/x-python",
   "name": "python",
   "nbconvert_exporter": "python",
   "pygments_lexer": "ipython3",
   "version": "3.10.6"
  },
  "orig_nbformat": 4
 },
 "nbformat": 4,
 "nbformat_minor": 2
}
